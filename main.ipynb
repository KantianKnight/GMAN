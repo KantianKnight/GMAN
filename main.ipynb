{
 "cells": [
  {
   "cell_type": "code",
   "execution_count": 25,
   "metadata": {},
   "outputs": [],
   "source": [
    "import pickle\n",
    "import numpy as np\n",
    "import matplotlib.pyplot as plt\n",
    "from sklearn.metrics import mean_squared_error\n",
    "from sklearn.metrics import mean_absolute_error\n",
    "from sklearn.metrics import r2_score\n",
    "\n",
    "import io\n",
    "import argparse\n",
    "import time\n",
    "import torch.optim as optim\n",
    "import torch.nn as nn\n",
    "import torch\n",
    "import numpy as np\n",
    "import matplotlib.pyplot as plt\n",
    "\n",
    "from utils.utils_ import log_string, plot_train_val_loss\n",
    "from utils.utils_ import count_parameters, load_data\n",
    "\n",
    "from model.model_ import GMAN\n",
    "from model.train import train\n",
    "from model.test import test"
   ]
  },
  {
   "cell_type": "code",
   "execution_count": 17,
   "metadata": {},
   "outputs": [
    {
     "name": "stdout",
     "output_type": "stream",
     "text": [
      "time_slot=5, num_his=12, num_pred=12, L=1, K=8, d=8, train_ratio=0.7, val_ratio=0.1, test_ratio=0.2, batch_size=32, max_epoch=1, patience=10, learning_rate=0.001, decay_epoch=10, traffic_file='./data/pems-bay.h5', SE_file='./data/SE(PeMS).txt', model_file='./data/GMAN.pkl', log_file='./data/log'\n",
      "loading data...\n",
      "trainX: torch.Size([36458, 12, 325])\t\t trainY: torch.Size([36458, 12, 325])\n",
      "valX:   torch.Size([5189, 12, 325])\t\tvalY:   torch.Size([5189, 12, 325])\n",
      "testX:   torch.Size([10400, 12, 325])\t\ttestY:   torch.Size([10400, 12, 325])\n",
      "mean:   62.7354\t\tstd:   9.4388\n",
      "data loaded!\n",
      "compiling model...\n",
      "trainable parameters: 209,923\n"
     ]
    }
   ],
   "source": [
    "parser = argparse.ArgumentParser()\n",
    "parser.add_argument('--time_slot', type=int, default=5,\n",
    "                    help='a time step is 5 mins')\n",
    "parser.add_argument('--num_his', type=int, default=12,\n",
    "                    help='history steps')\n",
    "parser.add_argument('--num_pred', type=int, default=12,\n",
    "                    help='prediction steps')\n",
    "parser.add_argument('--L', type=int, default=1,\n",
    "                    help='number of STAtt Blocks')\n",
    "parser.add_argument('--K', type=int, default=8,\n",
    "                    help='number of attention heads')\n",
    "parser.add_argument('--d', type=int, default=8,\n",
    "                    help='dims of each head attention outputs')\n",
    "parser.add_argument('--train_ratio', type=float, default=0.7,\n",
    "                    help='training set [default : 0.7]')\n",
    "parser.add_argument('--val_ratio', type=float, default=0.1,\n",
    "                    help='validation set [default : 0.1]')\n",
    "parser.add_argument('--test_ratio', type=float, default=0.2,\n",
    "                    help='testing set [default : 0.2]')\n",
    "parser.add_argument('--batch_size', type=int, default=32,\n",
    "                    help='batch size')\n",
    "parser.add_argument('--max_epoch', type=int, default=1,\n",
    "                    help='epoch to run')\n",
    "parser.add_argument('--patience', type=int, default=10,\n",
    "                    help='patience for early stop')\n",
    "parser.add_argument('--learning_rate', type=float, default=0.001,\n",
    "                    help='initial learning rate')\n",
    "parser.add_argument('--decay_epoch', type=int, default=10,\n",
    "                    help='decay epoch')\n",
    "parser.add_argument('--traffic_file', default='./data/pems-bay.h5',\n",
    "                    help='traffic file')\n",
    "parser.add_argument('--SE_file', default='./data/SE(PeMS).txt',\n",
    "                    help='spatial embedding file')\n",
    "parser.add_argument('--model_file', default='./data/GMAN.pkl',\n",
    "                    help='save the model to disk')\n",
    "parser.add_argument('--log_file', default='./data/log',\n",
    "                    help='log file')\n",
    "args, unknown = parser.parse_known_args()\n",
    "log = open(args.log_file, 'w')\n",
    "log_string(log, str(args)[10: -1])\n",
    "T = 24 * 60 // args.time_slot  # Number of time steps in one day\n",
    "# load data\n",
    "log_string(log, 'loading data...')\n",
    "(trainX, trainTE, trainY, valX, valTE, valY, testX, testTE,\n",
    "testY, SE, mean, std) = load_data(args)\n",
    "log_string(log, f'trainX: {trainX.shape}\\t\\t trainY: {trainY.shape}')\n",
    "log_string(log, f'valX:   {valX.shape}\\t\\tvalY:   {valY.shape}')\n",
    "log_string(log, f'testX:   {testX.shape}\\t\\ttestY:   {testY.shape}')\n",
    "log_string(log, f'mean:   {mean:.4f}\\t\\tstd:   {std:.4f}')\n",
    "log_string(log, 'data loaded!')\n",
    "del trainX, trainTE, valX, valTE, testX, testTE, mean, std\n",
    "# build model\n",
    "log_string(log, 'compiling model...')\n",
    "\n",
    "model = GMAN(SE, args, bn_decay=0.1)\n",
    "loss_criterion = nn.MSELoss()\n",
    "\n",
    "optimizer = optim.Adam(model.parameters(), args.learning_rate)\n",
    "scheduler = optim.lr_scheduler.StepLR(optimizer,\n",
    "                                      step_size=args.decay_epoch,\n",
    "                                      gamma=0.9)\n",
    "parameters = count_parameters(model)\n",
    "log_string(log, 'trainable parameters: {:,}'.format(parameters))"
   ]
  },
  {
   "cell_type": "code",
   "execution_count": null,
   "metadata": {},
   "outputs": [
    {
     "name": "stderr",
     "output_type": "stream",
     "text": [
      "/var/folders/9m/r73rtbfx5y57tdt4s_62qsmh0000gn/T/ipykernel_92990/1492739976.py:5: FutureWarning: You are using `torch.load` with `weights_only=False` (the current default value), which uses the default pickle module implicitly. It is possible to construct malicious pickle data which will execute arbitrary code during unpickling (See https://github.com/pytorch/pytorch/blob/main/SECURITY.md#untrusted-models for more details). In a future release, the default value for `weights_only` will be flipped to `True`. This limits the functions that could be executed during unpickling. Arbitrary objects will no longer be allowed to be loaded via this mode unless they are explicitly allowlisted by the user via `torch.serialization.add_safe_globals`. We recommend you start setting `weights_only=True` for any use case where you don't have full control of the loaded file. Please open an issue on GitHub for any issues related to this experimental feature.\n",
      "  model = torch.load(buffer)\n"
     ]
    }
   ],
   "source": [
    "with open('data/GMAN.pkl', 'rb') as f:\n",
    "\tbuffer = io.BytesIO(f.read())\n",
    "model = torch.load(buffer)"
   ]
  },
  {
   "cell_type": "code",
   "execution_count": null,
   "metadata": {},
   "outputs": [],
   "source": [
    "start = time.time()\n",
    "loss_train, loss_val = train(model, args, log, loss_criterion, optimizer, scheduler)\n",
    "plot_train_val_loss(loss_train, loss_val, 'figure/train_val_loss.png')\n",
    "trainPred, valPred, testPred = test(args, log)\n",
    "end = time.time()\n",
    "log_string(log, 'total time: %.1fmin' % ((end - start) / 60))\n",
    "log.close()\n",
    "trainPred_ = trainPred.numpy().reshape(-1, trainY.shape[-1])\n",
    "trainY_ = trainY.numpy().reshape(-1, trainY.shape[-1])\n",
    "valPred_ = valPred.numpy().reshape(-1, valY.shape[-1])\n",
    "valY_ = valY.numpy().reshape(-1, valY.shape[-1])\n",
    "testPred_ = testPred.numpy().reshape(-1, testY.shape[-1])\n",
    "testY_ = testY.numpy().reshape(-1, testY.shape[-1])\n",
    "\n",
    "# Save training, validation and testing datas to disk\n",
    "l = [trainPred_, trainY_, valPred_, valY_, testPred_, testY_]\n",
    "name = ['trainPred', 'trainY', 'valPred', 'valY', 'testPred', 'testY']\n",
    "for i, data in enumerate(l):\n",
    "    np.savetxt('./figure/' + name[i] + '.txt', data, fmt='%s')\n",
    "    \n",
    "# Plot the test prediction vs target（optional)\n",
    "plt.figure(figsize=(10, 280))\n",
    "for k in range(325):\n",
    "    plt.subplot(325, 1, k + 1)\n",
    "    for j in range(len(testPred)):\n",
    "        c, d = [], []\n",
    "        for i in range(12):\n",
    "            c.append(testPred[j, i, k])\n",
    "            d.append(testY[j, i, k])\n",
    "        plt.plot(range(1 + j, 12 + 1 + j), c, c='b')\n",
    "        plt.plot(range(1 + j, 12 + 1 + j), d, c='r')\n",
    "plt.title('Test prediction vs Target')\n",
    "plt.savefig('./figure/test_results.png')\n"
   ]
  }
 ],
 "metadata": {
  "kernelspec": {
   "display_name": "base",
   "language": "python",
   "name": "python3"
  },
  "language_info": {
   "codemirror_mode": {
    "name": "ipython",
    "version": 3
   },
   "file_extension": ".py",
   "mimetype": "text/x-python",
   "name": "python",
   "nbconvert_exporter": "python",
   "pygments_lexer": "ipython3",
   "version": "3.10.8"
  }
 },
 "nbformat": 4,
 "nbformat_minor": 2
}
