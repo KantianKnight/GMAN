{
 "cells": [
  {
   "cell_type": "code",
   "execution_count": 1,
   "metadata": {},
   "outputs": [],
   "source": [
    "import torch\n",
    "import torch.nn as nn"
   ]
  },
  {
   "cell_type": "code",
   "execution_count": 74,
   "metadata": {},
   "outputs": [
    {
     "name": "stdout",
     "output_type": "stream",
     "text": [
      "tensor([[0, 1, 2],\n",
      "        [3, 4, 5]]) \n",
      " tensor([[ 6,  7,  8],\n",
      "        [ 9, 10, 11]])\n"
     ]
    }
   ],
   "source": [
    "a = torch.arange(6).reshape(2, 3)\n",
    "b = torch.arange(6,12).reshape(2, 3)\n",
    "print(a,\"\\n\",b)"
   ]
  },
  {
   "cell_type": "code",
   "execution_count": 75,
   "metadata": {},
   "outputs": [
    {
     "name": "stdout",
     "output_type": "stream",
     "text": [
      "tensor([[ 0,  1,  2],\n",
      "        [ 3,  4,  5],\n",
      "        [ 6,  7,  8],\n",
      "        [ 9, 10, 11]])\n"
     ]
    }
   ],
   "source": [
    "print(torch.cat((a, b), dim=0))"
   ]
  },
  {
   "cell_type": "code",
   "execution_count": 77,
   "metadata": {},
   "outputs": [
    {
     "data": {
      "text/plain": [
       "tensor([[[ 0,  1,  2],\n",
       "         [ 3,  4,  5]],\n",
       "\n",
       "        [[ 6,  7,  8],\n",
       "         [ 9, 10, 11]],\n",
       "\n",
       "        [[12, 13, 14],\n",
       "         [15, 16, 17]],\n",
       "\n",
       "        [[18, 19, 20],\n",
       "         [21, 22, 23]],\n",
       "\n",
       "        [[24, 25, 26],\n",
       "         [27, 28, 29]],\n",
       "\n",
       "        [[30, 31, 32],\n",
       "         [33, 34, 35]]])"
      ]
     },
     "execution_count": 77,
     "metadata": {},
     "output_type": "execute_result"
    }
   ],
   "source": [
    "x = torch.arange(36).reshape(6, 2, 3)\n",
    "x"
   ]
  },
  {
   "cell_type": "code",
   "execution_count": 79,
   "metadata": {},
   "outputs": [
    {
     "data": {
      "text/plain": [
       "[tensor([[[ 0,  1,  2],\n",
       "          [ 3,  4,  5]],\n",
       " \n",
       "         [[ 6,  7,  8],\n",
       "          [ 9, 10, 11]],\n",
       " \n",
       "         [[12, 13, 14],\n",
       "          [15, 16, 17]]]),\n",
       " tensor([[[18, 19, 20],\n",
       "          [21, 22, 23]],\n",
       " \n",
       "         [[24, 25, 26],\n",
       "          [27, 28, 29]],\n",
       " \n",
       "         [[30, 31, 32],\n",
       "          [33, 34, 35]]])]"
      ]
     },
     "execution_count": 79,
     "metadata": {},
     "output_type": "execute_result"
    }
   ],
   "source": [
    "y = torch.split(x, 3, dim=0)\n",
    "y = list(y)\n",
    "y"
   ]
  },
  {
   "cell_type": "code",
   "execution_count": 80,
   "metadata": {},
   "outputs": [
    {
     "name": "stdout",
     "output_type": "stream",
     "text": [
      "tensor([[ 0,  1,  2],\n",
      "        [ 3,  4,  5],\n",
      "        [ 6,  7,  8],\n",
      "        [ 9, 10, 11],\n",
      "        [12, 13, 14],\n",
      "        [15, 16, 17]]) \n",
      " tensor([[18, 19, 20],\n",
      "        [21, 22, 23],\n",
      "        [24, 25, 26],\n",
      "        [27, 28, 29],\n",
      "        [30, 31, 32],\n",
      "        [33, 34, 35]])\n"
     ]
    }
   ],
   "source": [
    "z = [t.reshape(-1, t.size(-1)) for t in y]\n",
    "print(z[0],\"\\n\",z[1])"
   ]
  },
  {
   "cell_type": "code",
   "execution_count": 81,
   "metadata": {},
   "outputs": [
    {
     "data": {
      "text/plain": [
       "[tensor([[ 0,  1,  2],\n",
       "         [ 3,  4,  5],\n",
       "         [ 6,  7,  8],\n",
       "         [ 9, 10, 11],\n",
       "         [12, 13, 14],\n",
       "         [15, 16, 17]]),\n",
       " tensor([[ 0,  1,  2],\n",
       "         [ 3,  4,  5],\n",
       "         [ 6,  7,  8],\n",
       "         [ 9, 10, 11],\n",
       "         [12, 13, 14],\n",
       "         [15, 16, 17]]),\n",
       " tensor([[ 0,  1,  2],\n",
       "         [ 3,  4,  5],\n",
       "         [ 6,  7,  8],\n",
       "         [ 9, 10, 11],\n",
       "         [12, 13, 14],\n",
       "         [15, 16, 17]]),\n",
       " tensor([[18, 19, 20],\n",
       "         [21, 22, 23],\n",
       "         [24, 25, 26],\n",
       "         [27, 28, 29],\n",
       "         [30, 31, 32],\n",
       "         [33, 34, 35]]),\n",
       " tensor([[18, 19, 20],\n",
       "         [21, 22, 23],\n",
       "         [24, 25, 26],\n",
       "         [27, 28, 29],\n",
       "         [30, 31, 32],\n",
       "         [33, 34, 35]]),\n",
       " tensor([[18, 19, 20],\n",
       "         [21, 22, 23],\n",
       "         [24, 25, 26],\n",
       "         [27, 28, 29],\n",
       "         [30, 31, 32],\n",
       "         [33, 34, 35]])]"
      ]
     },
     "execution_count": 81,
     "metadata": {},
     "output_type": "execute_result"
    }
   ],
   "source": [
    "[t for t in z for _ in range(3)]"
   ]
  },
  {
   "cell_type": "markdown",
   "metadata": {},
   "source": [
    "## 4D Code"
   ]
  },
  {
   "cell_type": "code",
   "execution_count": 170,
   "metadata": {},
   "outputs": [],
   "source": [
    "grps = 2\n",
    "size = 5\n",
    "\n",
    "d1 = 2\n",
    "d2 = grps * size\n",
    "d3 = 4\n",
    "d4 = 7"
   ]
  },
  {
   "cell_type": "code",
   "execution_count": 171,
   "metadata": {},
   "outputs": [],
   "source": [
    "a = torch.arange(d1 * d2 * d3 * d4).reshape(d1, d2, d3, d4)\n",
    "# a[0]"
   ]
  },
  {
   "cell_type": "code",
   "execution_count": 172,
   "metadata": {},
   "outputs": [],
   "source": [
    "b = [torch.split(a[i], size, dim=0) for i in range(d1)]\n",
    "b = [list(split) for split in b]\n",
    "# b[0]"
   ]
  },
  {
   "cell_type": "code",
   "execution_count": 173,
   "metadata": {},
   "outputs": [],
   "source": [
    "c = [[t.reshape(-1, t.size(-1)) for t in b[i]] for i in range(d1)]\n",
    "# c[0]"
   ]
  },
  {
   "cell_type": "code",
   "execution_count": 174,
   "metadata": {},
   "outputs": [],
   "source": [
    "d = [[t for t in c[i] for _ in range(size)] for i in range(d1)]\n",
    "# d[0]"
   ]
  },
  {
   "cell_type": "code",
   "execution_count": 175,
   "metadata": {},
   "outputs": [
    {
     "data": {
      "text/plain": [
       "torch.Size([2, 10, 20, 7])"
      ]
     },
     "execution_count": 175,
     "metadata": {},
     "output_type": "execute_result"
    }
   ],
   "source": [
    "e = torch.stack([torch.stack(t) for t in d])\n",
    "e.shape"
   ]
  },
  {
   "cell_type": "code",
   "execution_count": 176,
   "metadata": {},
   "outputs": [
    {
     "data": {
      "text/plain": [
       "torch.Size([10, 20, 7])"
      ]
     },
     "execution_count": 176,
     "metadata": {},
     "output_type": "execute_result"
    }
   ],
   "source": [
    "e[0].shape"
   ]
  },
  {
   "cell_type": "code",
   "execution_count": 177,
   "metadata": {},
   "outputs": [
    {
     "data": {
      "text/plain": [
       "tensor([[[  0,   1,   2,  ...,   4,   5,   6],\n",
       "         [  7,   8,   9,  ...,  11,  12,  13],\n",
       "         [ 14,  15,  16,  ...,  18,  19,  20],\n",
       "         ...,\n",
       "         [119, 120, 121,  ..., 123, 124, 125],\n",
       "         [126, 127, 128,  ..., 130, 131, 132],\n",
       "         [133, 134, 135,  ..., 137, 138, 139]],\n",
       "\n",
       "        [[  0,   1,   2,  ...,   4,   5,   6],\n",
       "         [  7,   8,   9,  ...,  11,  12,  13],\n",
       "         [ 14,  15,  16,  ...,  18,  19,  20],\n",
       "         ...,\n",
       "         [119, 120, 121,  ..., 123, 124, 125],\n",
       "         [126, 127, 128,  ..., 130, 131, 132],\n",
       "         [133, 134, 135,  ..., 137, 138, 139]],\n",
       "\n",
       "        [[  0,   1,   2,  ...,   4,   5,   6],\n",
       "         [  7,   8,   9,  ...,  11,  12,  13],\n",
       "         [ 14,  15,  16,  ...,  18,  19,  20],\n",
       "         ...,\n",
       "         [119, 120, 121,  ..., 123, 124, 125],\n",
       "         [126, 127, 128,  ..., 130, 131, 132],\n",
       "         [133, 134, 135,  ..., 137, 138, 139]],\n",
       "\n",
       "        ...,\n",
       "\n",
       "        [[140, 141, 142,  ..., 144, 145, 146],\n",
       "         [147, 148, 149,  ..., 151, 152, 153],\n",
       "         [154, 155, 156,  ..., 158, 159, 160],\n",
       "         ...,\n",
       "         [259, 260, 261,  ..., 263, 264, 265],\n",
       "         [266, 267, 268,  ..., 270, 271, 272],\n",
       "         [273, 274, 275,  ..., 277, 278, 279]],\n",
       "\n",
       "        [[140, 141, 142,  ..., 144, 145, 146],\n",
       "         [147, 148, 149,  ..., 151, 152, 153],\n",
       "         [154, 155, 156,  ..., 158, 159, 160],\n",
       "         ...,\n",
       "         [259, 260, 261,  ..., 263, 264, 265],\n",
       "         [266, 267, 268,  ..., 270, 271, 272],\n",
       "         [273, 274, 275,  ..., 277, 278, 279]],\n",
       "\n",
       "        [[140, 141, 142,  ..., 144, 145, 146],\n",
       "         [147, 148, 149,  ..., 151, 152, 153],\n",
       "         [154, 155, 156,  ..., 158, 159, 160],\n",
       "         ...,\n",
       "         [259, 260, 261,  ..., 263, 264, 265],\n",
       "         [266, 267, 268,  ..., 270, 271, 272],\n",
       "         [273, 274, 275,  ..., 277, 278, 279]]])"
      ]
     },
     "execution_count": 177,
     "metadata": {},
     "output_type": "execute_result"
    }
   ],
   "source": [
    "e[0]"
   ]
  },
  {
   "cell_type": "code",
   "execution_count": 178,
   "metadata": {},
   "outputs": [
    {
     "data": {
      "text/plain": [
       "tensor([[  0,   1,   2,   3,   4,   5,   6],\n",
       "        [  7,   8,   9,  10,  11,  12,  13],\n",
       "        [ 14,  15,  16,  17,  18,  19,  20],\n",
       "        [ 21,  22,  23,  24,  25,  26,  27],\n",
       "        [ 28,  29,  30,  31,  32,  33,  34],\n",
       "        [ 35,  36,  37,  38,  39,  40,  41],\n",
       "        [ 42,  43,  44,  45,  46,  47,  48],\n",
       "        [ 49,  50,  51,  52,  53,  54,  55],\n",
       "        [ 56,  57,  58,  59,  60,  61,  62],\n",
       "        [ 63,  64,  65,  66,  67,  68,  69],\n",
       "        [ 70,  71,  72,  73,  74,  75,  76],\n",
       "        [ 77,  78,  79,  80,  81,  82,  83],\n",
       "        [ 84,  85,  86,  87,  88,  89,  90],\n",
       "        [ 91,  92,  93,  94,  95,  96,  97],\n",
       "        [ 98,  99, 100, 101, 102, 103, 104],\n",
       "        [105, 106, 107, 108, 109, 110, 111],\n",
       "        [112, 113, 114, 115, 116, 117, 118],\n",
       "        [119, 120, 121, 122, 123, 124, 125],\n",
       "        [126, 127, 128, 129, 130, 131, 132],\n",
       "        [133, 134, 135, 136, 137, 138, 139]])"
      ]
     },
     "execution_count": 178,
     "metadata": {},
     "output_type": "execute_result"
    }
   ],
   "source": [
    "e[0][0]"
   ]
  },
  {
   "cell_type": "code",
   "execution_count": 179,
   "metadata": {},
   "outputs": [
    {
     "data": {
      "text/plain": [
       "tensor([[  0,   1,   2,   3,   4,   5,   6],\n",
       "        [  7,   8,   9,  10,  11,  12,  13],\n",
       "        [ 14,  15,  16,  17,  18,  19,  20],\n",
       "        [ 21,  22,  23,  24,  25,  26,  27],\n",
       "        [ 28,  29,  30,  31,  32,  33,  34],\n",
       "        [ 35,  36,  37,  38,  39,  40,  41],\n",
       "        [ 42,  43,  44,  45,  46,  47,  48],\n",
       "        [ 49,  50,  51,  52,  53,  54,  55],\n",
       "        [ 56,  57,  58,  59,  60,  61,  62],\n",
       "        [ 63,  64,  65,  66,  67,  68,  69],\n",
       "        [ 70,  71,  72,  73,  74,  75,  76],\n",
       "        [ 77,  78,  79,  80,  81,  82,  83],\n",
       "        [ 84,  85,  86,  87,  88,  89,  90],\n",
       "        [ 91,  92,  93,  94,  95,  96,  97],\n",
       "        [ 98,  99, 100, 101, 102, 103, 104],\n",
       "        [105, 106, 107, 108, 109, 110, 111],\n",
       "        [112, 113, 114, 115, 116, 117, 118],\n",
       "        [119, 120, 121, 122, 123, 124, 125],\n",
       "        [126, 127, 128, 129, 130, 131, 132],\n",
       "        [133, 134, 135, 136, 137, 138, 139]])"
      ]
     },
     "execution_count": 179,
     "metadata": {},
     "output_type": "execute_result"
    }
   ],
   "source": [
    "e[0][4]"
   ]
  },
  {
   "cell_type": "code",
   "execution_count": 180,
   "metadata": {},
   "outputs": [
    {
     "data": {
      "text/plain": [
       "tensor([[140, 141, 142, 143, 144, 145, 146],\n",
       "        [147, 148, 149, 150, 151, 152, 153],\n",
       "        [154, 155, 156, 157, 158, 159, 160],\n",
       "        [161, 162, 163, 164, 165, 166, 167],\n",
       "        [168, 169, 170, 171, 172, 173, 174],\n",
       "        [175, 176, 177, 178, 179, 180, 181],\n",
       "        [182, 183, 184, 185, 186, 187, 188],\n",
       "        [189, 190, 191, 192, 193, 194, 195],\n",
       "        [196, 197, 198, 199, 200, 201, 202],\n",
       "        [203, 204, 205, 206, 207, 208, 209],\n",
       "        [210, 211, 212, 213, 214, 215, 216],\n",
       "        [217, 218, 219, 220, 221, 222, 223],\n",
       "        [224, 225, 226, 227, 228, 229, 230],\n",
       "        [231, 232, 233, 234, 235, 236, 237],\n",
       "        [238, 239, 240, 241, 242, 243, 244],\n",
       "        [245, 246, 247, 248, 249, 250, 251],\n",
       "        [252, 253, 254, 255, 256, 257, 258],\n",
       "        [259, 260, 261, 262, 263, 264, 265],\n",
       "        [266, 267, 268, 269, 270, 271, 272],\n",
       "        [273, 274, 275, 276, 277, 278, 279]])"
      ]
     },
     "execution_count": 180,
     "metadata": {},
     "output_type": "execute_result"
    }
   ],
   "source": [
    "e[0][5]"
   ]
  },
  {
   "cell_type": "markdown",
   "metadata": {},
   "source": [
    "## Compress Code"
   ]
  },
  {
   "cell_type": "code",
   "execution_count": 183,
   "metadata": {},
   "outputs": [],
   "source": [
    "INPUT = torch.arange(7987200).reshape(256, 325, 12, 8)"
   ]
  },
  {
   "cell_type": "code",
   "execution_count": null,
   "metadata": {},
   "outputs": [
    {
     "data": {
      "text/plain": [
       "torch.Size([256, 325, 60, 8])"
      ]
     },
     "execution_count": 182,
     "metadata": {},
     "output_type": "execute_result"
    }
   ],
   "source": [
    "X = [torch.split(INPUT[i], 5, dim=0) for i in range(256)]\n",
    "X = [list(split) for split in X]\n",
    "X = [[t.reshape(-1, t.size(-1)) for t in X[i]] for i in range(256)]\n",
    "X = [[t for t in X[i] for _ in range(5)] for i in range(256)]\n",
    "X = torch.stack([torch.stack(t) for t in X])\n",
    "X.shape\n",
    "print(X)\n",
    "del X\n",
    "\n",
    "print(INPUT)"
   ]
  },
  {
   "cell_type": "code",
   "execution_count": null,
   "metadata": {},
   "outputs": [],
   "source": []
  },
  {
   "cell_type": "code",
   "execution_count": 2,
   "metadata": {},
   "outputs": [],
   "source": [
    "INPUT = torch.arange(560).reshape(2, 10, 4, 7)"
   ]
  },
  {
   "cell_type": "code",
   "execution_count": 3,
   "metadata": {},
   "outputs": [
    {
     "ename": "NameError",
     "evalue": "name 'size' is not defined",
     "output_type": "error",
     "traceback": [
      "\u001b[0;31m---------------------------------------------------------------------------\u001b[0m",
      "\u001b[0;31mNameError\u001b[0m                                 Traceback (most recent call last)",
      "Cell \u001b[0;32mIn[3], line 1\u001b[0m\n\u001b[0;32m----> 1\u001b[0m X \u001b[38;5;241m=\u001b[39m torch\u001b[38;5;241m.\u001b[39mstack([torch\u001b[38;5;241m.\u001b[39mstack(t1) \u001b[38;5;28;01mfor\u001b[39;00m t1 \u001b[38;5;129;01min\u001b[39;00m [[t2 \u001b[38;5;28;01mfor\u001b[39;00m t2 \u001b[38;5;129;01min\u001b[39;00m [[t3\u001b[38;5;241m.\u001b[39mreshape(\u001b[38;5;241m-\u001b[39m\u001b[38;5;241m1\u001b[39m, t3\u001b[38;5;241m.\u001b[39msize(\u001b[38;5;241m-\u001b[39m\u001b[38;5;241m1\u001b[39m)) \u001b[38;5;28;01mfor\u001b[39;00m t3 \u001b[38;5;129;01min\u001b[39;00m [\u001b[38;5;28mlist\u001b[39m(split) \u001b[38;5;28;01mfor\u001b[39;00m split \u001b[38;5;129;01min\u001b[39;00m [torch\u001b[38;5;241m.\u001b[39msplit(INPUT[k], size, dim\u001b[38;5;241m=\u001b[39m\u001b[38;5;241m0\u001b[39m) \u001b[38;5;28;01mfor\u001b[39;00m k \u001b[38;5;129;01min\u001b[39;00m \u001b[38;5;28mrange\u001b[39m(\u001b[38;5;241m256\u001b[39m)]][j]] \u001b[38;5;28;01mfor\u001b[39;00m j \u001b[38;5;129;01min\u001b[39;00m \u001b[38;5;28mrange\u001b[39m(\u001b[38;5;241m256\u001b[39m)][i] \u001b[38;5;28;01mfor\u001b[39;00m _ \u001b[38;5;129;01min\u001b[39;00m \u001b[38;5;28mrange\u001b[39m(size)] \u001b[38;5;28;01mfor\u001b[39;00m i \u001b[38;5;129;01min\u001b[39;00m \u001b[38;5;28mrange\u001b[39m(\u001b[38;5;241m256\u001b[39m)]])\n",
      "Cell \u001b[0;32mIn[3], line 1\u001b[0m, in \u001b[0;36m<listcomp>\u001b[0;34m(.0)\u001b[0m\n\u001b[0;32m----> 1\u001b[0m X \u001b[38;5;241m=\u001b[39m torch\u001b[38;5;241m.\u001b[39mstack([torch\u001b[38;5;241m.\u001b[39mstack(t1) \u001b[38;5;28;01mfor\u001b[39;00m t1 \u001b[38;5;129;01min\u001b[39;00m [[t2 \u001b[38;5;28;01mfor\u001b[39;00m t2 \u001b[38;5;129;01min\u001b[39;00m [[t3\u001b[38;5;241m.\u001b[39mreshape(\u001b[38;5;241m-\u001b[39m\u001b[38;5;241m1\u001b[39m, t3\u001b[38;5;241m.\u001b[39msize(\u001b[38;5;241m-\u001b[39m\u001b[38;5;241m1\u001b[39m)) \u001b[38;5;28;01mfor\u001b[39;00m t3 \u001b[38;5;129;01min\u001b[39;00m [\u001b[38;5;28mlist\u001b[39m(split) \u001b[38;5;28;01mfor\u001b[39;00m split \u001b[38;5;129;01min\u001b[39;00m [torch\u001b[38;5;241m.\u001b[39msplit(INPUT[k], size, dim\u001b[38;5;241m=\u001b[39m\u001b[38;5;241m0\u001b[39m) \u001b[38;5;28;01mfor\u001b[39;00m k \u001b[38;5;129;01min\u001b[39;00m \u001b[38;5;28mrange\u001b[39m(\u001b[38;5;241m256\u001b[39m)]][j]] \u001b[38;5;28;01mfor\u001b[39;00m j \u001b[38;5;129;01min\u001b[39;00m \u001b[38;5;28mrange\u001b[39m(\u001b[38;5;241m256\u001b[39m)][i] \u001b[38;5;28;01mfor\u001b[39;00m _ \u001b[38;5;129;01min\u001b[39;00m \u001b[38;5;28mrange\u001b[39m(size)] \u001b[38;5;28;01mfor\u001b[39;00m i \u001b[38;5;129;01min\u001b[39;00m \u001b[38;5;28mrange\u001b[39m(\u001b[38;5;241m256\u001b[39m)]])\n",
      "Cell \u001b[0;32mIn[3], line 1\u001b[0m, in \u001b[0;36m<listcomp>\u001b[0;34m(.0)\u001b[0m\n\u001b[0;32m----> 1\u001b[0m X \u001b[38;5;241m=\u001b[39m torch\u001b[38;5;241m.\u001b[39mstack([torch\u001b[38;5;241m.\u001b[39mstack(t1) \u001b[38;5;28;01mfor\u001b[39;00m t1 \u001b[38;5;129;01min\u001b[39;00m [[t2 \u001b[38;5;28;01mfor\u001b[39;00m t2 \u001b[38;5;129;01min\u001b[39;00m [[t3\u001b[38;5;241m.\u001b[39mreshape(\u001b[38;5;241m-\u001b[39m\u001b[38;5;241m1\u001b[39m, t3\u001b[38;5;241m.\u001b[39msize(\u001b[38;5;241m-\u001b[39m\u001b[38;5;241m1\u001b[39m)) \u001b[38;5;28;01mfor\u001b[39;00m t3 \u001b[38;5;129;01min\u001b[39;00m [\u001b[38;5;28mlist\u001b[39m(split) \u001b[38;5;28;01mfor\u001b[39;00m split \u001b[38;5;129;01min\u001b[39;00m [torch\u001b[38;5;241m.\u001b[39msplit(INPUT[k], size, dim\u001b[38;5;241m=\u001b[39m\u001b[38;5;241m0\u001b[39m) \u001b[38;5;28;01mfor\u001b[39;00m k \u001b[38;5;129;01min\u001b[39;00m \u001b[38;5;28mrange\u001b[39m(\u001b[38;5;241m256\u001b[39m)]][j]] \u001b[38;5;28;01mfor\u001b[39;00m j \u001b[38;5;129;01min\u001b[39;00m \u001b[38;5;28mrange\u001b[39m(\u001b[38;5;241m256\u001b[39m)][i] \u001b[38;5;28;01mfor\u001b[39;00m _ \u001b[38;5;129;01min\u001b[39;00m \u001b[38;5;28mrange\u001b[39m(size)] \u001b[38;5;28;01mfor\u001b[39;00m i \u001b[38;5;129;01min\u001b[39;00m \u001b[38;5;28mrange\u001b[39m(\u001b[38;5;241m256\u001b[39m)]])\n",
      "Cell \u001b[0;32mIn[3], line 1\u001b[0m, in \u001b[0;36m<listcomp>\u001b[0;34m(.0)\u001b[0m\n\u001b[0;32m----> 1\u001b[0m X \u001b[38;5;241m=\u001b[39m torch\u001b[38;5;241m.\u001b[39mstack([torch\u001b[38;5;241m.\u001b[39mstack(t1) \u001b[38;5;28;01mfor\u001b[39;00m t1 \u001b[38;5;129;01min\u001b[39;00m [[t2 \u001b[38;5;28;01mfor\u001b[39;00m t2 \u001b[38;5;129;01min\u001b[39;00m [[t3\u001b[38;5;241m.\u001b[39mreshape(\u001b[38;5;241m-\u001b[39m\u001b[38;5;241m1\u001b[39m, t3\u001b[38;5;241m.\u001b[39msize(\u001b[38;5;241m-\u001b[39m\u001b[38;5;241m1\u001b[39m)) \u001b[38;5;28;01mfor\u001b[39;00m t3 \u001b[38;5;129;01min\u001b[39;00m [\u001b[38;5;28mlist\u001b[39m(split) \u001b[38;5;28;01mfor\u001b[39;00m split \u001b[38;5;129;01min\u001b[39;00m [torch\u001b[38;5;241m.\u001b[39msplit(INPUT[k], \u001b[43msize\u001b[49m, dim\u001b[38;5;241m=\u001b[39m\u001b[38;5;241m0\u001b[39m) \u001b[38;5;28;01mfor\u001b[39;00m k \u001b[38;5;129;01min\u001b[39;00m \u001b[38;5;28mrange\u001b[39m(\u001b[38;5;241m256\u001b[39m)]][j]] \u001b[38;5;28;01mfor\u001b[39;00m j \u001b[38;5;129;01min\u001b[39;00m \u001b[38;5;28mrange\u001b[39m(\u001b[38;5;241m256\u001b[39m)][i] \u001b[38;5;28;01mfor\u001b[39;00m _ \u001b[38;5;129;01min\u001b[39;00m \u001b[38;5;28mrange\u001b[39m(size)] \u001b[38;5;28;01mfor\u001b[39;00m i \u001b[38;5;129;01min\u001b[39;00m \u001b[38;5;28mrange\u001b[39m(\u001b[38;5;241m256\u001b[39m)]])\n",
      "\u001b[0;31mNameError\u001b[0m: name 'size' is not defined"
     ]
    }
   ],
   "source": [
    "X = torch.stack([torch.stack(t1) for t1 in [[t2 for t2 in [[t3.reshape(-1, t3.size(-1)) for t3 in [list(split) for split in [torch.split(INPUT[k], size, dim=0) for k in range(256)]][j]] for j in range(256)][i] for _ in range(size)] for i in range(256)]])"
   ]
  },
  {
   "cell_type": "code",
   "execution_count": null,
   "metadata": {},
   "outputs": [],
   "source": []
  }
 ],
 "metadata": {
  "kernelspec": {
   "display_name": "base",
   "language": "python",
   "name": "python3"
  },
  "language_info": {
   "codemirror_mode": {
    "name": "ipython",
    "version": 3
   },
   "file_extension": ".py",
   "mimetype": "text/x-python",
   "name": "python",
   "nbconvert_exporter": "python",
   "pygments_lexer": "ipython3",
   "version": "3.10.8"
  }
 },
 "nbformat": 4,
 "nbformat_minor": 2
}
