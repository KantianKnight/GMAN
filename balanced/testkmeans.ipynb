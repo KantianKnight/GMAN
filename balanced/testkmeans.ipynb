{
 "cells": [
  {
   "cell_type": "code",
   "execution_count": 1,
   "metadata": {},
   "outputs": [],
   "source": [
    "from kmeans import kmeans_equal\n",
    "import torch"
   ]
  },
  {
   "cell_type": "code",
   "execution_count": 4,
   "metadata": {},
   "outputs": [
    {
     "name": "stdout",
     "output_type": "stream",
     "text": [
      "tensor([[[ 0.3250,  0.0429, -0.2722],\n",
      "         [-0.4589,  0.4501,  0.4760],\n",
      "         [-0.2756,  0.2877,  0.0705],\n",
      "         [-0.0959, -0.0341,  0.3591],\n",
      "         [ 0.1032,  0.2723,  0.3530],\n",
      "         [-0.1250,  0.0285,  0.0514],\n",
      "         [ 0.0013, -0.0967, -0.0962],\n",
      "         [ 0.1272,  0.3941, -0.1983],\n",
      "         [ 0.2847, -0.0939, -0.0413],\n",
      "         [-0.3415, -0.2899,  0.0939]]])\n"
     ]
    }
   ],
   "source": [
    "N = 100\n",
    "batch_size = 1\n",
    "num_clusters = 10\n",
    "\n",
    "cluster_size = N // num_clusters\n",
    "X = torch.randn(batch_size, N, 3)\n",
    "choices, centers = kmeans_equal(X, num_clusters, cluster_size)"
   ]
  },
  {
   "cell_type": "code",
   "execution_count": 9,
   "metadata": {},
   "outputs": [
    {
     "name": "stdout",
     "output_type": "stream",
     "text": [
      "tensor([39,  0,  0,  0,  2, 49,  0,  0,  0, 10])\n"
     ]
    }
   ],
   "source": [
    "# print counts of choices[0]\n",
    "print(choices[0].bincount(minlength=num_clusters))"
   ]
  },
  {
   "cell_type": "code",
   "execution_count": 10,
   "metadata": {},
   "outputs": [
    {
     "data": {
      "text/plain": [
       "tensor([9, 9, 9, 9, 9, 9, 9, 9, 9, 9, 5, 0, 5, 0, 5, 0, 5, 5, 5, 0, 5, 5, 0, 5,\n",
       "        0, 5, 5, 5, 0, 0, 5, 5, 0, 0, 0, 0, 5, 5, 0, 5, 5, 5, 5, 0, 5, 5, 5, 0,\n",
       "        0, 0, 5, 0, 5, 5, 5, 0, 0, 5, 5, 0, 0, 5, 0, 5, 0, 5, 0, 5, 5, 5, 0, 0,\n",
       "        5, 5, 5, 0, 5, 0, 0, 5, 0, 0, 5, 0, 0, 5, 0, 0, 0, 5, 5, 0, 0, 5, 5, 5,\n",
       "        5, 4, 4, 5])"
      ]
     },
     "execution_count": 10,
     "metadata": {},
     "output_type": "execute_result"
    }
   ],
   "source": [
    "choices[0]"
   ]
  },
  {
   "cell_type": "code",
   "execution_count": null,
   "metadata": {},
   "outputs": [],
   "source": []
  }
 ],
 "metadata": {
  "kernelspec": {
   "display_name": "base",
   "language": "python",
   "name": "python3"
  },
  "language_info": {
   "codemirror_mode": {
    "name": "ipython",
    "version": 3
   },
   "file_extension": ".py",
   "mimetype": "text/x-python",
   "name": "python",
   "nbconvert_exporter": "python",
   "pygments_lexer": "ipython3",
   "version": "3.10.8"
  }
 },
 "nbformat": 4,
 "nbformat_minor": 2
}
