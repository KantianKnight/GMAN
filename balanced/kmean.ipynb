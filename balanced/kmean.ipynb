{
 "cells": [
  {
   "cell_type": "code",
   "execution_count": 1,
   "metadata": {},
   "outputs": [
    {
     "name": "stderr",
     "output_type": "stream",
     "text": [
      "/Users/darren/anaconda3/lib/python3.10/site-packages/tqdm/auto.py:21: TqdmWarning: IProgress not found. Please update jupyter and ipywidgets. See https://ipywidgets.readthedocs.io/en/stable/user_install.html\n",
      "  from .autonotebook import tqdm as notebook_tqdm\n"
     ]
    }
   ],
   "source": [
    "import torch\n",
    "import numpy as np\n",
    "import matplotlib.pyplot as plt\n",
    "from balanced_kmeans import KMeans\n",
    "from sklearn.decomposition import PCA #, TruncatedSVD\n",
    "from sklearn import datasets\n",
    "\n",
    "from cluster import *"
   ]
  },
  {
   "cell_type": "code",
   "execution_count": 44,
   "metadata": {},
   "outputs": [
    {
     "name": "stdout",
     "output_type": "stream",
     "text": [
      "running k-means on cpu..\n"
     ]
    },
    {
     "name": "stderr",
     "output_type": "stream",
     "text": [
      "[running kmeans]: 3it [00:00, 418.65it/s, center_shift=0.000000, iteration=3, tol=0.001000]\n"
     ]
    },
    {
     "data": {
      "image/png": "[encoded data removed]",
      "text/plain": [
       "<Figure size 640x480 with 1 Axes>"
      ]
     },
     "metadata": {},
     "output_type": "display_data"
    }
   ],
   "source": [
    "seed = 235\n",
    "num_clusters = 4\n",
    "balanced = True\n",
    "debug = True\n",
    "# set random seed\n",
    "np.random.seed(seed)\n",
    "\n",
    "n_samples = 8\n",
    "blobs = datasets.make_blobs(n_samples=n_samples,\n",
    "                            random_state=seed,\n",
    "                            centers=[[1, 1], [-1, -1], [1, -1]],\n",
    "                            cluster_std=0.6)\n",
    "X = torch.from_numpy(blobs[0])\n",
    "# X = torch.from_numpy(blobs[0][:n_samples//2])\n",
    "# y = torch.from_numpy(blobs[0][n_samples//2:])\n",
    "\n",
    "if torch.cuda.is_available():\n",
    "    device = torch.device('cuda:0')\n",
    "else:\n",
    "    device = torch.device('cpu')\n",
    "\n",
    "kmeans = KMeans(n_clusters=num_clusters, balanced=True)\n",
    "# batched_X = batchify(X.to(device), batch_size=8)\n",
    "\n",
    "counter = 0\n",
    "_ = kmeans.fit(\n",
    "    X=X, distance='euclidean', iter_limit=100, tqdm_flag=True, online=False\n",
    ")\n",
    "\n",
    "\n",
    "kmeans.save(\"model.pkl\")\n",
    "kmeans = kmeans.load(\"model.pkl\")\n",
    "\n",
    "cluster_ids_y_ = []\n",
    "\n",
    "cluster_ids_y = kmeans.predict(\n",
    "        # X=y.to(device)\n",
    "        X = X.to(device)\n",
    "    )\n",
    "\n",
    "if balanced:\n",
    "    output = 'balanced_clusters.pdf'\n",
    "else:\n",
    "    output = 'unbalanced_clusters.pdf'\n",
    "plot_blobs(X, kmeans.cluster_centers.to('cpu'), cluster_ids_y, output)"
   ]
  },
  {
   "cell_type": "code",
   "execution_count": 45,
   "metadata": {},
   "outputs": [],
   "source": [
    "# Display unique values and counts of cluster_ids_y\n",
    "unique, counts = np.unique(cluster_ids_y, return_counts=True)"
   ]
  },
  {
   "cell_type": "code",
   "execution_count": 46,
   "metadata": {},
   "outputs": [
    {
     "data": {
      "text/plain": [
       "array([2, 3, 2, 1])"
      ]
     },
     "execution_count": 46,
     "metadata": {},
     "output_type": "execute_result"
    }
   ],
   "source": [
    "counts"
   ]
  },
  {
   "cell_type": "code",
   "execution_count": 19,
   "metadata": {},
   "outputs": [
    {
     "data": {
      "text/plain": [
       "array([0, 1, 2, 4, 5, 6, 7])"
      ]
     },
     "execution_count": 19,
     "metadata": {},
     "output_type": "execute_result"
    }
   ],
   "source": [
    "unique"
   ]
  },
  {
   "cell_type": "code",
   "execution_count": null,
   "metadata": {},
   "outputs": [],
   "source": []
  }
 ],
 "metadata": {
  "kernelspec": {
   "display_name": "base",
   "language": "python",
   "name": "python3"
  },
  "language_info": {
   "codemirror_mode": {
    "name": "ipython",
    "version": 3
   },
   "file_extension": ".py",
   "mimetype": "text/x-python",
   "name": "python",
   "nbconvert_exporter": "python",
   "pygments_lexer": "ipython3",
   "version": "3.10.8"
  }
 },
 "nbformat": 4,
 "nbformat_minor": 2
}
